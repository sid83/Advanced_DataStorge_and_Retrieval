{
 "cells": [
  {
   "cell_type": "code",
   "execution_count": 1,
   "metadata": {},
   "outputs": [],
   "source": [
    "import matplotlib\n",
    "from matplotlib import style\n",
    "style.use('seaborn')\n",
    "import matplotlib.pyplot as plt\n",
    "import datetime as dt\n",
    "import pandas as pd\n",
    "import numpy as np\n",
    "from scipy import stats"
   ]
  },
  {
   "cell_type": "code",
   "execution_count": 2,
   "metadata": {},
   "outputs": [],
   "source": [
    "# Importing SQLAlchemy `automap` and other dependencies here\n",
    "import sqlalchemy\n",
    "from sqlalchemy.ext.automap import automap_base\n",
    "from sqlalchemy.orm import Session\n",
    "from sqlalchemy import create_engine, inspect, func\n"
   ]
  },
  {
   "cell_type": "code",
   "execution_count": 3,
   "metadata": {},
   "outputs": [],
   "source": [
    "# create engine for connecting to hawaii.sqlite db\n",
    "engine = create_engine(\"sqlite:///Resources_cleaned/hawaii.sqlite\")"
   ]
  },
  {
   "cell_type": "code",
   "execution_count": 4,
   "metadata": {},
   "outputs": [
    {
     "data": {
      "text/plain": [
       "['measurement', 'station']"
      ]
     },
     "execution_count": 4,
     "metadata": {},
     "output_type": "execute_result"
    }
   ],
   "source": [
    "# inspecting tables to ensure that they are suitable for further analysis\n",
    "inspector = inspect(engine)\n",
    "inspector.get_table_names()"
   ]
  },
  {
   "cell_type": "code",
   "execution_count": 5,
   "metadata": {},
   "outputs": [
    {
     "name": "stdout",
     "output_type": "stream",
     "text": [
      "measurement_id INTEGER 1\n",
      "station_id VARCHAR 0\n",
      "date DATETIME 0\n",
      "prcp FLOAT 0\n",
      "tobs INTEGER 0\n"
     ]
    }
   ],
   "source": [
    "# Checking data types for measurement table\n",
    "cols = inspector.get_columns('measurement')\n",
    "for column in cols:\n",
    "    print(column['name'], column['type'], column['primary_key'])"
   ]
  },
  {
   "cell_type": "code",
   "execution_count": 6,
   "metadata": {},
   "outputs": [
    {
     "name": "stdout",
     "output_type": "stream",
     "text": [
      "station_id VARCHAR 1\n",
      "name VARCHAR 0\n",
      "latitude FLOAT 0\n",
      "longitude FLOAT 0\n",
      "elevation FLOAT 0\n"
     ]
    }
   ],
   "source": [
    "# Checking data types for station table\n",
    "cols = inspector.get_columns('station')\n",
    "for column in cols:\n",
    "    print(column['name'], column['type'], column['primary_key'])"
   ]
  },
  {
   "cell_type": "markdown",
   "metadata": {},
   "source": [
    "### Reflect Database into ORM class and Query"
   ]
  },
  {
   "cell_type": "code",
   "execution_count": 7,
   "metadata": {},
   "outputs": [],
   "source": [
    "# Reflect Database into ORM class\n",
    "Base = automap_base()\n",
    "Base.prepare(engine, reflect=True)\n",
    "Station = Base.classes.station\n",
    "Measurement = Base.classes.measurement"
   ]
  },
  {
   "cell_type": "code",
   "execution_count": 8,
   "metadata": {},
   "outputs": [],
   "source": [
    "# Start a session to query the database\n",
    "session = Session(engine)"
   ]
  },
  {
   "cell_type": "code",
   "execution_count": 9,
   "metadata": {},
   "outputs": [
    {
     "data": {
      "text/plain": [
       "['measurement', 'station']"
      ]
     },
     "execution_count": 9,
     "metadata": {},
     "output_type": "execute_result"
    }
   ],
   "source": [
    "Base.classes.keys()"
   ]
  },
  {
   "cell_type": "code",
   "execution_count": 10,
   "metadata": {},
   "outputs": [
    {
     "name": "stdout",
     "output_type": "stream",
     "text": [
      "('USC00519397', 'WAIKIKI 717.2, HI US', 21.2716, -157.8168, 3.0)\n"
     ]
    }
   ],
   "source": [
    "result = session.query(Station.station_id, Station.name, Station.latitude, Station.longitude, Station.elevation).all()\n",
    "print(result[0])"
   ]
  },
  {
   "cell_type": "markdown",
   "metadata": {},
   "source": [
    "# Precipitation Analysis"
   ]
  },
  {
   "cell_type": "code",
   "execution_count": 11,
   "metadata": {},
   "outputs": [
    {
     "name": "stdout",
     "output_type": "stream",
     "text": [
      "2017-08-23 00:00:00\n"
     ]
    }
   ],
   "source": [
    "#find the latest date in db ## Also unpacking tuple\n",
    "latest_date, = session.query(Measurement.date).order_by(Measurement.date.desc()).first()\n",
    "print(latest_date)\n"
   ]
  },
  {
   "cell_type": "code",
   "execution_count": 12,
   "metadata": {
    "scrolled": true
   },
   "outputs": [
    {
     "name": "stdout",
     "output_type": "stream",
     "text": [
      "2016-08-23 00:00:00\n"
     ]
    }
   ],
   "source": [
    "query_date = latest_date - dt.timedelta(days=365)\n",
    "print(query_date)"
   ]
  },
  {
   "cell_type": "code",
   "execution_count": 13,
   "metadata": {},
   "outputs": [],
   "source": [
    "# Query all dates and prcp values within last one year\n",
    "results = session.query(Measurement.date, Measurement.prcp).filter(Measurement.date>=query_date).all()\n"
   ]
  },
  {
   "cell_type": "code",
   "execution_count": 14,
   "metadata": {},
   "outputs": [
    {
     "data": {
      "text/html": [
       "<div>\n",
       "<style scoped>\n",
       "    .dataframe tbody tr th:only-of-type {\n",
       "        vertical-align: middle;\n",
       "    }\n",
       "\n",
       "    .dataframe tbody tr th {\n",
       "        vertical-align: top;\n",
       "    }\n",
       "\n",
       "    .dataframe thead th {\n",
       "        text-align: right;\n",
       "    }\n",
       "</style>\n",
       "<table border=\"1\" class=\"dataframe\">\n",
       "  <thead>\n",
       "    <tr style=\"text-align: right;\">\n",
       "      <th></th>\n",
       "      <th>date</th>\n",
       "      <th>precipitation</th>\n",
       "    </tr>\n",
       "  </thead>\n",
       "  <tbody>\n",
       "    <tr>\n",
       "      <th>0</th>\n",
       "      <td>2016-08-23</td>\n",
       "      <td>0.00</td>\n",
       "    </tr>\n",
       "    <tr>\n",
       "      <th>1027</th>\n",
       "      <td>2016-08-23</td>\n",
       "      <td>0.02</td>\n",
       "    </tr>\n",
       "    <tr>\n",
       "      <th>702</th>\n",
       "      <td>2016-08-23</td>\n",
       "      <td>0.05</td>\n",
       "    </tr>\n",
       "    <tr>\n",
       "      <th>1693</th>\n",
       "      <td>2016-08-23</td>\n",
       "      <td>0.70</td>\n",
       "    </tr>\n",
       "    <tr>\n",
       "      <th>359</th>\n",
       "      <td>2016-08-23</td>\n",
       "      <td>0.15</td>\n",
       "    </tr>\n",
       "  </tbody>\n",
       "</table>\n",
       "</div>"
      ],
      "text/plain": [
       "           date  precipitation\n",
       "0    2016-08-23           0.00\n",
       "1027 2016-08-23           0.02\n",
       "702  2016-08-23           0.05\n",
       "1693 2016-08-23           0.70\n",
       "359  2016-08-23           0.15"
      ]
     },
     "execution_count": 14,
     "metadata": {},
     "output_type": "execute_result"
    }
   ],
   "source": [
    "# Loading query results in dataframe\n",
    "df = pd.DataFrame(results, columns=['date','precipitation'])\n",
    "df = df.sort_values('date',ascending=True)\n",
    "# df = df.set_index('date')\n",
    "df.head()"
   ]
  },
  {
   "cell_type": "code",
   "execution_count": 15,
   "metadata": {},
   "outputs": [
    {
     "data": {
      "text/plain": [
       "date             datetime64[ns]\n",
       "precipitation           float64\n",
       "dtype: object"
      ]
     },
     "execution_count": 15,
     "metadata": {},
     "output_type": "execute_result"
    }
   ],
   "source": [
    "# checkin data types\n",
    "\n",
    "df.dtypes"
   ]
  },
  {
   "cell_type": "code",
   "execution_count": 16,
   "metadata": {},
   "outputs": [
    {
     "data": {
      "text/plain": [
       "date             2021\n",
       "precipitation    2021\n",
       "dtype: int64"
      ]
     },
     "execution_count": 16,
     "metadata": {},
     "output_type": "execute_result"
    }
   ],
   "source": [
    "df.count()"
   ]
  },
  {
   "cell_type": "markdown",
   "metadata": {},
   "source": [
    "* Summary Statistics for Precipitation Data"
   ]
  },
  {
   "cell_type": "code",
   "execution_count": 17,
   "metadata": {},
   "outputs": [
    {
     "name": "stdout",
     "output_type": "stream",
     "text": [
      "       precipitation\n",
      "count        2021.00\n",
      "mean            0.18\n",
      "std             0.46\n",
      "min             0.00\n",
      "25%             0.00\n",
      "50%             0.02\n",
      "75%             0.13\n",
      "max             6.70\n"
     ]
    }
   ],
   "source": [
    "print(df.describe().round(2))"
   ]
  },
  {
   "cell_type": "markdown",
   "metadata": {},
   "source": [
    "To get more sense out of the Plot of precipitation data, I averaged measurement value for each day, so we will end up with one mean precipitation value for each day. "
   ]
  },
  {
   "cell_type": "code",
   "execution_count": 18,
   "metadata": {},
   "outputs": [
    {
     "data": {
      "text/html": [
       "<div>\n",
       "<style scoped>\n",
       "    .dataframe tbody tr th:only-of-type {\n",
       "        vertical-align: middle;\n",
       "    }\n",
       "\n",
       "    .dataframe tbody tr th {\n",
       "        vertical-align: top;\n",
       "    }\n",
       "\n",
       "    .dataframe thead th {\n",
       "        text-align: right;\n",
       "    }\n",
       "</style>\n",
       "<table border=\"1\" class=\"dataframe\">\n",
       "  <thead>\n",
       "    <tr style=\"text-align: right;\">\n",
       "      <th></th>\n",
       "      <th>precipitation</th>\n",
       "    </tr>\n",
       "    <tr>\n",
       "      <th>date</th>\n",
       "      <th></th>\n",
       "    </tr>\n",
       "  </thead>\n",
       "  <tbody>\n",
       "    <tr>\n",
       "      <th>2016-08-23</th>\n",
       "      <td>0.451667</td>\n",
       "    </tr>\n",
       "    <tr>\n",
       "      <th>2016-08-24</th>\n",
       "      <td>1.555000</td>\n",
       "    </tr>\n",
       "    <tr>\n",
       "      <th>2016-08-25</th>\n",
       "      <td>0.077143</td>\n",
       "    </tr>\n",
       "    <tr>\n",
       "      <th>2016-08-26</th>\n",
       "      <td>0.016667</td>\n",
       "    </tr>\n",
       "    <tr>\n",
       "      <th>2016-08-27</th>\n",
       "      <td>0.064000</td>\n",
       "    </tr>\n",
       "  </tbody>\n",
       "</table>\n",
       "</div>"
      ],
      "text/plain": [
       "            precipitation\n",
       "date                     \n",
       "2016-08-23       0.451667\n",
       "2016-08-24       1.555000\n",
       "2016-08-25       0.077143\n",
       "2016-08-26       0.016667\n",
       "2016-08-27       0.064000"
      ]
     },
     "execution_count": 18,
     "metadata": {},
     "output_type": "execute_result"
    }
   ],
   "source": [
    "df_bydate = df.groupby('date').agg(np.mean)\n",
    "df_bydate.head()"
   ]
  },
  {
   "cell_type": "code",
   "execution_count": 19,
   "metadata": {},
   "outputs": [
    {
     "data": {
      "text/plain": [
       "Text(0,0.5,'Precipitation')"
      ]
     },
     "execution_count": 19,
     "metadata": {},
     "output_type": "execute_result"
    },
    {
     "data": {
      "image/png": "[encoded data removed]",
      "text/plain": [
       "<Figure size 1224x216 with 1 Axes>"
      ]
     },
     "metadata": {},
     "output_type": "display_data"
    }
   ],
   "source": [
    "df_test = df_bydate[df_bydate['precipitation']>.01]\n",
    "fig, ax = plt.subplots(figsize=(17,3))\n",
    "df_test['precipitation'].plot(kind='bar', ax=ax, color='blue')\n",
    "ax.set_xticklabels('')\n",
    "ax.set_ylabel('Precipitation')\n",
    "# ax.set_xticks()"
   ]
  },
  {
   "cell_type": "markdown",
   "metadata": {},
   "source": [
    "## Station Analysis\n"
   ]
  },
  {
   "cell_type": "code",
   "execution_count": 20,
   "metadata": {},
   "outputs": [
    {
     "name": "stdout",
     "output_type": "stream",
     "text": [
      "station_id VARCHAR 1\n",
      "name VARCHAR 0\n",
      "latitude FLOAT 0\n",
      "longitude FLOAT 0\n",
      "elevation FLOAT 0\n"
     ]
    }
   ],
   "source": [
    "# Checking data types for station table\n",
    "cols = inspector.get_columns('station')\n",
    "for column in cols:\n",
    "    print(column['name'], column['type'], column['primary_key'])"
   ]
  },
  {
   "cell_type": "code",
   "execution_count": 21,
   "metadata": {},
   "outputs": [
    {
     "name": "stdout",
     "output_type": "stream",
     "text": [
      "measurement_id INTEGER 1\n",
      "station_id VARCHAR 0\n",
      "date DATETIME 0\n",
      "prcp FLOAT 0\n",
      "tobs INTEGER 0\n"
     ]
    }
   ],
   "source": [
    "# Checking data types for measurement table\n",
    "cols = inspector.get_columns('measurement')\n",
    "for column in cols:\n",
    "    print(column['name'], column['type'], column['primary_key'])"
   ]
  },
  {
   "cell_type": "markdown",
   "metadata": {},
   "source": [
    "###### Querying the total number of stations."
   ]
  },
  {
   "cell_type": "code",
   "execution_count": 22,
   "metadata": {},
   "outputs": [
    {
     "data": {
      "text/plain": [
       "9"
      ]
     },
     "execution_count": 22,
     "metadata": {},
     "output_type": "execute_result"
    }
   ],
   "source": [
    "# Counting the number of stations\n",
    "session.query(Station.name).count()\n"
   ]
  },
  {
   "cell_type": "markdown",
   "metadata": {},
   "source": [
    "###### The Most Active Stations\n",
    "\n",
    "* listing the stations and observation counts in descending order"
   ]
  },
  {
   "cell_type": "code",
   "execution_count": 23,
   "metadata": {},
   "outputs": [
    {
     "data": {
      "text/plain": [
       "[('USC00519281', 2772),\n",
       " ('USC00513117', 2696),\n",
       " ('USC00519397', 2685),\n",
       " ('USC00519523', 2572),\n",
       " ('USC00516128', 2484),\n",
       " ('USC00514830', 1937),\n",
       " ('USC00511918', 1932),\n",
       " ('USC00517948', 683),\n",
       " ('USC00518838', 342)]"
      ]
     },
     "execution_count": 23,
     "metadata": {},
     "output_type": "execute_result"
    }
   ],
   "source": [
    "session.query(Measurement.station_id ,func.count(Measurement.station_id)).group_by(Measurement.station_id).\\\n",
    "            order_by(func.count(Measurement.station_id).desc()).all()\n"
   ]
  },
  {
   "cell_type": "markdown",
   "metadata": {},
   "source": [
    "* Station with the highest number of observation"
   ]
  },
  {
   "cell_type": "code",
   "execution_count": 24,
   "metadata": {},
   "outputs": [
    {
     "data": {
      "text/plain": [
       "('USC00519281',\n",
       " 'WAIHEE 837.5, HI US',\n",
       " 21.45167,\n",
       " -157.84888999999995,\n",
       " 32.9,\n",
       " 2772)"
      ]
     },
     "execution_count": 24,
     "metadata": {},
     "output_type": "execute_result"
    }
   ],
   "source": [
    "session.query(Station.station_id, Station.name, Station.latitude, Station.longitude, Station.elevation ,func.count(Measurement.station_id)).\\\n",
    "            filter(Measurement.station_id == Station.station_id).group_by(Measurement.station_id).\\\n",
    "            order_by(func.count(Measurement.station_id).desc()).first()\n"
   ]
  },
  {
   "cell_type": "markdown",
   "metadata": {},
   "source": [
    "* Design a query to retrieve the last 12 months of temperature observation data (tobs).\n",
    "\n",
    "  * Filter by the station with the highest number of observations.\n",
    "\n",
    "  * Plot the results as a histogram with `bins=12`.\n"
   ]
  },
  {
   "cell_type": "code",
   "execution_count": 25,
   "metadata": {},
   "outputs": [],
   "source": [
    "# query to find tobs for most active station\n",
    "tob_results = session.query(Measurement.tobs).filter(Measurement.date>=query_date).\\\n",
    "                        filter(Measurement.station_id == 'USC00519281').all()\n",
    "# print(tob_results,)"
   ]
  },
  {
   "cell_type": "code",
   "execution_count": 26,
   "metadata": {},
   "outputs": [
    {
     "data": {
      "text/html": [
       "<div>\n",
       "<style scoped>\n",
       "    .dataframe tbody tr th:only-of-type {\n",
       "        vertical-align: middle;\n",
       "    }\n",
       "\n",
       "    .dataframe tbody tr th {\n",
       "        vertical-align: top;\n",
       "    }\n",
       "\n",
       "    .dataframe thead th {\n",
       "        text-align: right;\n",
       "    }\n",
       "</style>\n",
       "<table border=\"1\" class=\"dataframe\">\n",
       "  <thead>\n",
       "    <tr style=\"text-align: right;\">\n",
       "      <th></th>\n",
       "      <th>Temperature</th>\n",
       "    </tr>\n",
       "  </thead>\n",
       "  <tbody>\n",
       "    <tr>\n",
       "      <th>count</th>\n",
       "      <td>352.000000</td>\n",
       "    </tr>\n",
       "    <tr>\n",
       "      <th>mean</th>\n",
       "      <td>73.107955</td>\n",
       "    </tr>\n",
       "    <tr>\n",
       "      <th>std</th>\n",
       "      <td>4.733315</td>\n",
       "    </tr>\n",
       "    <tr>\n",
       "      <th>min</th>\n",
       "      <td>59.000000</td>\n",
       "    </tr>\n",
       "    <tr>\n",
       "      <th>25%</th>\n",
       "      <td>70.000000</td>\n",
       "    </tr>\n",
       "    <tr>\n",
       "      <th>50%</th>\n",
       "      <td>74.000000</td>\n",
       "    </tr>\n",
       "    <tr>\n",
       "      <th>75%</th>\n",
       "      <td>77.000000</td>\n",
       "    </tr>\n",
       "    <tr>\n",
       "      <th>max</th>\n",
       "      <td>83.000000</td>\n",
       "    </tr>\n",
       "  </tbody>\n",
       "</table>\n",
       "</div>"
      ],
      "text/plain": [
       "       Temperature\n",
       "count   352.000000\n",
       "mean     73.107955\n",
       "std       4.733315\n",
       "min      59.000000\n",
       "25%      70.000000\n",
       "50%      74.000000\n",
       "75%      77.000000\n",
       "max      83.000000"
      ]
     },
     "execution_count": 26,
     "metadata": {},
     "output_type": "execute_result"
    }
   ],
   "source": [
    "# importing query results to df\n",
    "df_tob = pd.DataFrame(tob_results, columns=['Temperature'])\n",
    "df_tob.describe()"
   ]
  },
  {
   "cell_type": "code",
   "execution_count": 27,
   "metadata": {},
   "outputs": [
    {
     "data": {
      "text/plain": [
       "(0.0, 70)"
      ]
     },
     "execution_count": 27,
     "metadata": {},
     "output_type": "execute_result"
    },
    {
     "data": {
      "image/png": "[encoded data removed]",
      "text/plain": [
       "<Figure size 1080x576 with 1 Axes>"
      ]
     },
     "metadata": {},
     "output_type": "display_data"
    }
   ],
   "source": [
    "# plotting histogram\n",
    "bins=[]\n",
    "fig, ax = plt.subplots(figsize=(15,8))\n",
    "df_tob.hist(bins=12, ax=ax, color='blue', xlabelsize=12, ylabelsize=12, label='tobs')\n",
    "ax.set_title('')\n",
    "ax.legend()\n",
    "plt.rc('legend', fontsize=25)\n",
    "ax.set_ylabel('Frequency',fontsize=20)\n",
    "ax.set_ylim(top=70)\n"
   ]
  },
  {
   "cell_type": "markdown",
   "metadata": {},
   "source": [
    "### Temperature Analysis"
   ]
  },
  {
   "cell_type": "markdown",
   "metadata": {},
   "source": [
    "* Defining a function that will accept a start date and end date in the format `%Y-%m-%d` and return the minimum, average, and maximum temperatures for that range of dates."
   ]
  },
  {
   "cell_type": "code",
   "execution_count": 28,
   "metadata": {},
   "outputs": [],
   "source": [
    "def calc_temps(start_date, end_date):\n",
    "    \"\"\" Returns the min, avg and max temp for a range of dates\n",
    "    ARGS: start_date, end_date - A string (\"%Y-%m-%d\")\n",
    "    Returns: list of tuples containing min, avg and max temps\n",
    "    \"\"\"\n",
    "    sd = dt.datetime.strptime(start_date, \"%Y-%m-%d\")\n",
    "    ed = dt.datetime.strptime(end_date, \"%Y-%m-%d\")\n",
    "    result = session.query(Measurement.date, func.max(Measurement.tobs),func.avg(Measurement.tobs),func.min(Measurement.tobs)).\\\n",
    "                filter(Measurement.date>=start_date).filter(Measurement.date<=end_date).group_by(Measurement.date).all()\n",
    "    return result"
   ]
  },
  {
   "cell_type": "markdown",
   "metadata": {},
   "source": [
    "* Using the `calc_temps` function to calculate the min, avg, and max temperatures for the trip duration, using dates from an year earlier"
   ]
  },
  {
   "cell_type": "code",
   "execution_count": 29,
   "metadata": {},
   "outputs": [
    {
     "data": {
      "text/html": [
       "<div>\n",
       "<style scoped>\n",
       "    .dataframe tbody tr th:only-of-type {\n",
       "        vertical-align: middle;\n",
       "    }\n",
       "\n",
       "    .dataframe tbody tr th {\n",
       "        vertical-align: top;\n",
       "    }\n",
       "\n",
       "    .dataframe thead th {\n",
       "        text-align: right;\n",
       "    }\n",
       "</style>\n",
       "<table border=\"1\" class=\"dataframe\">\n",
       "  <thead>\n",
       "    <tr style=\"text-align: right;\">\n",
       "      <th></th>\n",
       "      <th>Max. Temp</th>\n",
       "      <th>Mean Temp</th>\n",
       "      <th>Min. Temp</th>\n",
       "    </tr>\n",
       "    <tr>\n",
       "      <th>Date</th>\n",
       "      <th></th>\n",
       "      <th></th>\n",
       "      <th></th>\n",
       "    </tr>\n",
       "  </thead>\n",
       "  <tbody>\n",
       "    <tr>\n",
       "      <th>2017-01-01</th>\n",
       "      <td>74</td>\n",
       "      <td>68.400000</td>\n",
       "      <td>62</td>\n",
       "    </tr>\n",
       "    <tr>\n",
       "      <th>2017-01-02</th>\n",
       "      <td>74</td>\n",
       "      <td>69.200000</td>\n",
       "      <td>66</td>\n",
       "    </tr>\n",
       "    <tr>\n",
       "      <th>2017-01-03</th>\n",
       "      <td>71</td>\n",
       "      <td>66.600000</td>\n",
       "      <td>63</td>\n",
       "    </tr>\n",
       "    <tr>\n",
       "      <th>2017-01-04</th>\n",
       "      <td>73</td>\n",
       "      <td>67.166667</td>\n",
       "      <td>62</td>\n",
       "    </tr>\n",
       "    <tr>\n",
       "      <th>2017-01-05</th>\n",
       "      <td>72</td>\n",
       "      <td>67.500000</td>\n",
       "      <td>63</td>\n",
       "    </tr>\n",
       "    <tr>\n",
       "      <th>2017-01-06</th>\n",
       "      <td>74</td>\n",
       "      <td>67.666667</td>\n",
       "      <td>62</td>\n",
       "    </tr>\n",
       "    <tr>\n",
       "      <th>2017-01-07</th>\n",
       "      <td>72</td>\n",
       "      <td>70.166667</td>\n",
       "      <td>66</td>\n",
       "    </tr>\n",
       "    <tr>\n",
       "      <th>2017-01-08</th>\n",
       "      <td>74</td>\n",
       "      <td>67.666667</td>\n",
       "      <td>60</td>\n",
       "    </tr>\n",
       "    <tr>\n",
       "      <th>2017-01-09</th>\n",
       "      <td>77</td>\n",
       "      <td>68.166667</td>\n",
       "      <td>62</td>\n",
       "    </tr>\n",
       "  </tbody>\n",
       "</table>\n",
       "</div>"
      ],
      "text/plain": [
       "            Max. Temp  Mean Temp  Min. Temp\n",
       "Date                                       \n",
       "2017-01-01         74  68.400000         62\n",
       "2017-01-02         74  69.200000         66\n",
       "2017-01-03         71  66.600000         63\n",
       "2017-01-04         73  67.166667         62\n",
       "2017-01-05         72  67.500000         63\n",
       "2017-01-06         74  67.666667         62\n",
       "2017-01-07         72  70.166667         66\n",
       "2017-01-08         74  67.666667         60\n",
       "2017-01-09         77  68.166667         62"
      ]
     },
     "execution_count": 29,
     "metadata": {},
     "output_type": "execute_result"
    }
   ],
   "source": [
    "trip_start = \"2017-01-01\"; trip_end = \"2017-01-10\"\n",
    "temperatures_trip = calc_temps(trip_start, trip_end)\n",
    "df_triptemp = pd.DataFrame(temperatures_trip, columns=['Date', 'Max. Temp', 'Mean Temp', 'Min. Temp'])\n",
    "df_triptemp['Date'] = df_triptemp['Date'].dt.date\n",
    "df_triptemp = df_triptemp.set_index('Date')\n",
    "df_triptemp"
   ]
  },
  {
   "cell_type": "markdown",
   "metadata": {},
   "source": [
    "* Plotting the bar chart with average value and tmax-tmin as y error bar."
   ]
  },
  {
   "cell_type": "code",
   "execution_count": 30,
   "metadata": {},
   "outputs": [
    {
     "data": {
      "image/png": "[encoded data removed]",
      "text/plain": [
       "<Figure size 1080x360 with 1 Axes>"
      ]
     },
     "metadata": {},
     "output_type": "display_data"
    }
   ],
   "source": [
    "# yerr = [df_triptemp['Max. Temp'].sem(), df_triptemp['Mean Temp'].sem(), df_triptemp['Min. Temp'].sem()]\n",
    "yerr = df_triptemp['Max. Temp'] - df_triptemp['Min. Temp']\n",
    "fig, ax = plt.subplots(figsize=(15,5))\n",
    "df_triptemp['Mean Temp'].plot(kind='bar',color='yellow',yerr=yerr, ax=ax)\n",
    "ax.set_ylabel('Temp (F)', fontsize=15)\n",
    "ax.set_xlabel('Trip Days', fontsize=15)\n",
    "\n",
    "for tick in ax.get_yticklabels():\n",
    "    tick_setfontsize=12\n",
    "for value in ax.get_xticklabels():\n",
    "#     value.\n",
    "    value.set_fontsize=20\n",
    "    value.set_rotation(45)"
   ]
  },
  {
   "cell_type": "markdown",
   "metadata": {},
   "source": [
    "* Calculation of rainfall per weather station using the previous year's matching dates.\n",
    "    * defining function `calc_rainfall` for calculating total rainfall for every weather station."
   ]
  },
  {
   "cell_type": "code",
   "execution_count": 31,
   "metadata": {},
   "outputs": [],
   "source": [
    "def calc_rainfall(start_date, end_date):\n",
    "    \"\"\" Calculating total rainfall for every weather station\n",
    "    Args:\n",
    "        start_date(str), end_date(str): date strings in format \"%Y-%m-%d\"\n",
    "    Returns:\n",
    "        A list of tuples containing the stationID and total rainfall\n",
    "    \"\"\"\n",
    "    sd = dt.datetime.strptime(start_date, \"%Y-%m-%d\")\n",
    "    ed = dt.datetime.strptime(end_date, \"%Y-%m-%d\")\n",
    "    result = session.query(Measurement.station_id, func.sum(Measurement.prcp)).\\\n",
    "                filter(Measurement.date>=start_date).filter(Measurement.date<=end_date).group_by(Measurement.station_id).all()\n",
    "    return result"
   ]
  },
  {
   "cell_type": "code",
   "execution_count": 32,
   "metadata": {},
   "outputs": [
    {
     "data": {
      "text/html": [
       "<div>\n",
       "<style scoped>\n",
       "    .dataframe tbody tr th:only-of-type {\n",
       "        vertical-align: middle;\n",
       "    }\n",
       "\n",
       "    .dataframe tbody tr th {\n",
       "        vertical-align: top;\n",
       "    }\n",
       "\n",
       "    .dataframe thead th {\n",
       "        text-align: right;\n",
       "    }\n",
       "</style>\n",
       "<table border=\"1\" class=\"dataframe\">\n",
       "  <thead>\n",
       "    <tr style=\"text-align: right;\">\n",
       "      <th></th>\n",
       "      <th>Station_id</th>\n",
       "      <th>Total_Rainfall</th>\n",
       "    </tr>\n",
       "  </thead>\n",
       "  <tbody>\n",
       "    <tr>\n",
       "      <th>0</th>\n",
       "      <td>USC00513117</td>\n",
       "      <td>0.35</td>\n",
       "    </tr>\n",
       "    <tr>\n",
       "      <th>1</th>\n",
       "      <td>USC00514830</td>\n",
       "      <td>0.63</td>\n",
       "    </tr>\n",
       "    <tr>\n",
       "      <th>2</th>\n",
       "      <td>USC00516128</td>\n",
       "      <td>0.63</td>\n",
       "    </tr>\n",
       "    <tr>\n",
       "      <th>3</th>\n",
       "      <td>USC00519281</td>\n",
       "      <td>0.20</td>\n",
       "    </tr>\n",
       "    <tr>\n",
       "      <th>4</th>\n",
       "      <td>USC00519397</td>\n",
       "      <td>0.00</td>\n",
       "    </tr>\n",
       "    <tr>\n",
       "      <th>5</th>\n",
       "      <td>USC00519523</td>\n",
       "      <td>0.61</td>\n",
       "    </tr>\n",
       "  </tbody>\n",
       "</table>\n",
       "</div>"
      ],
      "text/plain": [
       "    Station_id  Total_Rainfall\n",
       "0  USC00513117            0.35\n",
       "1  USC00514830            0.63\n",
       "2  USC00516128            0.63\n",
       "3  USC00519281            0.20\n",
       "4  USC00519397            0.00\n",
       "5  USC00519523            0.61"
      ]
     },
     "execution_count": 32,
     "metadata": {},
     "output_type": "execute_result"
    }
   ],
   "source": [
    "trip_start = \"2017-01-01\"; trip_end = \"2017-01-10\" # dates one year ago\n",
    "rainfall_trip = calc_rainfall(trip_start, trip_end)\n",
    "df_triprainfall = pd.DataFrame(rainfall_trip, columns=['Station_id', 'Total_Rainfall'])\n",
    "df_triprainfall"
   ]
  },
  {
   "cell_type": "markdown",
   "metadata": {},
   "source": [
    "* Calculation of the daily normals (Temperatures). Normals are the averages for min, avg, and max temperatures.\n",
    "\n",
    "  * Creating a function called `daily_normals` that will calculate the daily normals for a specific date. Input date string will be in the format `%m-%d`."
   ]
  },
  {
   "cell_type": "code",
   "execution_count": 33,
   "metadata": {},
   "outputs": [],
   "source": [
    "# Creating a function for calculating daily normals\n",
    "def daily_normals(date):\n",
    "    \"\"\"Calculating Daily Normals (temperature)\n",
    "    Args:\n",
    "        date(str): A date string in format \"%m-%d\"\n",
    "    Returns:\n",
    "        A list of tuples containing the daily normals, tmin, tavg, and tmax\n",
    "    \"\"\"\n",
    "    sel = [func.min(Measurement.tobs), func.avg(Measurement.tobs), func.max(Measurement.tobs)]    \n",
    "    daily_normal = session.query(*sel).filter(func.strftime(\"%m-%d\", Measurement.date) == date).all()\n",
    "    return daily_normal\n",
    "    "
   ]
  },
  {
   "cell_type": "markdown",
   "metadata": {},
   "source": [
    "  * Calculating Normals (temps) during the trip (same dates previous year) using function `daily_normals`.\n",
    "\n",
    "  \n"
   ]
  },
  {
   "cell_type": "code",
   "execution_count": 34,
   "metadata": {},
   "outputs": [
    {
     "data": {
      "text/html": [
       "<div>\n",
       "<style scoped>\n",
       "    .dataframe tbody tr th:only-of-type {\n",
       "        vertical-align: middle;\n",
       "    }\n",
       "\n",
       "    .dataframe tbody tr th {\n",
       "        vertical-align: top;\n",
       "    }\n",
       "\n",
       "    .dataframe thead th {\n",
       "        text-align: right;\n",
       "    }\n",
       "</style>\n",
       "<table border=\"1\" class=\"dataframe\">\n",
       "  <thead>\n",
       "    <tr style=\"text-align: right;\">\n",
       "      <th></th>\n",
       "      <th>Min_Temp</th>\n",
       "      <th>Average_Temp</th>\n",
       "      <th>Max_Temp</th>\n",
       "    </tr>\n",
       "    <tr>\n",
       "      <th>Trip_Date</th>\n",
       "      <th></th>\n",
       "      <th></th>\n",
       "      <th></th>\n",
       "    </tr>\n",
       "  </thead>\n",
       "  <tbody>\n",
       "    <tr>\n",
       "      <th>01-01</th>\n",
       "      <td>62</td>\n",
       "      <td>69.060000</td>\n",
       "      <td>77</td>\n",
       "    </tr>\n",
       "    <tr>\n",
       "      <th>01-02</th>\n",
       "      <td>60</td>\n",
       "      <td>69.408163</td>\n",
       "      <td>77</td>\n",
       "    </tr>\n",
       "    <tr>\n",
       "      <th>01-03</th>\n",
       "      <td>62</td>\n",
       "      <td>68.833333</td>\n",
       "      <td>77</td>\n",
       "    </tr>\n",
       "    <tr>\n",
       "      <th>01-04</th>\n",
       "      <td>58</td>\n",
       "      <td>69.836364</td>\n",
       "      <td>76</td>\n",
       "    </tr>\n",
       "    <tr>\n",
       "      <th>01-05</th>\n",
       "      <td>56</td>\n",
       "      <td>68.000000</td>\n",
       "      <td>76</td>\n",
       "    </tr>\n",
       "    <tr>\n",
       "      <th>01-06</th>\n",
       "      <td>61</td>\n",
       "      <td>68.886792</td>\n",
       "      <td>76</td>\n",
       "    </tr>\n",
       "    <tr>\n",
       "      <th>01-07</th>\n",
       "      <td>57</td>\n",
       "      <td>68.381818</td>\n",
       "      <td>76</td>\n",
       "    </tr>\n",
       "    <tr>\n",
       "      <th>01-08</th>\n",
       "      <td>57</td>\n",
       "      <td>67.200000</td>\n",
       "      <td>75</td>\n",
       "    </tr>\n",
       "    <tr>\n",
       "      <th>01-09</th>\n",
       "      <td>58</td>\n",
       "      <td>68.072727</td>\n",
       "      <td>78</td>\n",
       "    </tr>\n",
       "  </tbody>\n",
       "</table>\n",
       "</div>"
      ],
      "text/plain": [
       "           Min_Temp  Average_Temp  Max_Temp\n",
       "Trip_Date                                  \n",
       "01-01            62     69.060000        77\n",
       "01-02            60     69.408163        77\n",
       "01-03            62     68.833333        77\n",
       "01-04            58     69.836364        76\n",
       "01-05            56     68.000000        76\n",
       "01-06            61     68.886792        76\n",
       "01-07            57     68.381818        76\n",
       "01-08            57     67.200000        75\n",
       "01-09            58     68.072727        78"
      ]
     },
     "execution_count": 34,
     "metadata": {},
     "output_type": "execute_result"
    }
   ],
   "source": [
    "trip_st = dt.datetime.strptime(trip_start, \"%Y-%m-%d\")\n",
    "trip_duration = 9 #days\n",
    "trip_min=[]; trip_avg=[]; trip_max=[]; trip_date=[]\n",
    "for day in range(trip_duration):\n",
    "    date = trip_st + dt.timedelta(days=day)\n",
    "    date_str = dt.datetime.strftime(date, \"%m-%d\")\n",
    "    normals, = daily_normals(date_str)\n",
    "    trip_min.append(normals[0])\n",
    "    trip_avg.append(normals[1])\n",
    "    trip_max.append(normals[2])\n",
    "    trip_date.append(date_str)\n",
    "trip_normals = {'Trip_Date':trip_date, 'Min_Temp': trip_min, 'Average_Temp': trip_avg, 'Max_Temp': trip_max}\n",
    "df_trip_nortemps = pd.DataFrame(trip_normals, columns=['Trip_Date', 'Min_Temp','Average_Temp','Max_Temp'])\n",
    "df_trip_nortemps = df_trip_nortemps.set_index('Trip_Date')\n",
    "df_trip_nortemps"
   ]
  },
  {
   "cell_type": "markdown",
   "metadata": {},
   "source": [
    "  * Using Pandas to plot an area plot (`stacked=False`) for the daily normals.\n",
    "  "
   ]
  },
  {
   "cell_type": "code",
   "execution_count": 35,
   "metadata": {},
   "outputs": [
    {
     "data": {
      "text/plain": [
       "Text(0.5,0,'Trip Dates')"
      ]
     },
     "execution_count": 35,
     "metadata": {},
     "output_type": "execute_result"
    },
    {
     "data": {
      "image/png": "[encoded data removed]",
      "text/plain": [
       "<Figure size 864x504 with 1 Axes>"
      ]
     },
     "metadata": {},
     "output_type": "display_data"
    }
   ],
   "source": [
    "fig, ax = plt.subplots(figsize=(12,7))\n",
    "df_trip_nortemps.plot(kind='area', ax=ax, stacked=False, alpha=0.5, cmap='gist_rainbow')\n",
    "ax.legend(bbox_to_anchor = (1,1),loc='best', fontsize='large')\n",
    "ax.set_xticklabels(labels=df_trip_nortemps.index, fontsize=12)\n",
    "ax.set_ylabel('Temperature (F)', fontsize=15)\n",
    "ax.set_xlabel('Trip Dates', fontsize=15)\n",
    "# ax.fill_between(df_trip_nortemps.index, df_trip_nortemps['Min_Temp'], facecolor='red', alpha=0.5)\n",
    "# ax.fill_between(x=df_trip_nortemps['Min_Temp'], df_trip_nortemps['Average_Temp'], facecolor='blue', alpha=0.5)\n",
    "# ax.fill_between(df_trip_nortemps.index, df_trip_nortemps['Max_Temp'], facecolor='black', alpha=0.5)"
   ]
  },
  {
   "cell_type": "code",
   "execution_count": null,
   "metadata": {},
   "outputs": [],
   "source": []
  }
 ],
 "metadata": {
  "kernelspec": {
   "display_name": "Python [conda env:PythonData]",
   "language": "python",
   "name": "conda-env-PythonData-py"
  },
  "language_info": {
   "codemirror_mode": {
    "name": "ipython",
    "version": 3
   },
   "file_extension": ".py",
   "mimetype": "text/x-python",
   "name": "python",
   "nbconvert_exporter": "python",
   "pygments_lexer": "ipython3",
   "version": "3.6.5"
  }
 },
 "nbformat": 4,
 "nbformat_minor": 2
}
